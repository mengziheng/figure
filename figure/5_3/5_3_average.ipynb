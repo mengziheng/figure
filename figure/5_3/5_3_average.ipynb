{
 "cells": [
  {
   "cell_type": "code",
   "execution_count": 4,
   "metadata": {},
   "outputs": [],
   "source": [
    "import pandas as pd\n",
    "import matplotlib.pyplot as plt\n",
    "from matplotlib import rcParams\n",
    "import numpy as np\n",
    "\n",
    "# 读取 Excel 文件\n",
    "average_file = \"../../output/5_3/average.xlsx\"  # 请替换为你的实际路径\n",
    "\n",
    "average_df = pd.read_excel(average_file, index_col=0)\n",
    "\n",
    "def clean_numeric_values(df):\n",
    "    return df.map(lambda x: float(str(x).split()[0]) if pd.notna(x) and isinstance(x, str) else x)\n",
    "\n",
    "average_df = clean_numeric_values(average_df)"
   ]
  },
  {
   "cell_type": "code",
   "execution_count": null,
   "metadata": {},
   "outputs": [
    {
     "name": "stdout",
     "output_type": "stream",
     "text": [
      "[21, 22, 23, 24, 25, 26, 27, 28, 29, 30, 31]\n",
      "3\n",
      "3\n",
      "3\n",
      "3\n",
      "3\n"
     ]
    }
   ],
   "source": [
    "\n",
    "rcParams[\"text.usetex\"] = True\n",
    "rcParams[\"font.family\"] = \"serif\"\n",
    "rcParams[\"font.serif\"] = [\"Times New Roman\"] + rcParams[\"font.serif\"]\n",
    "rcParams[\"font.size\"] = 14\n",
    "\n",
    "row_x_labels = average_df.columns.astype(int)\n",
    "x_labels = list(range(21, 32))\n",
    "print(x_labels)\n",
    "\n",
    "methods = average_df.index\n",
    "x_positions = np.arange(len(x_labels))  # x 轴位置\n",
    "\n",
    "# 颜色定义\n",
    "method_names = [\"BCCE\", \"Air Top-K\",  \"BlockSelect\", \"RadixSelect\", \"Bitonic Top-K\"]\n",
    "markers = [\"o\", \"s\", \"^\", \"x\", \"d\"]  # 不同方法的标记形状\n",
    "colors = [\"blue\", \"green\", \"orange\", \"purple\", \"brown\"]  # 不同方法的颜色\n",
    "    \n",
    "# 绘图\n",
    "fig, ax = plt.subplots(figsize=(12, 6))\n",
    "\n",
    "for i, method in enumerate(methods):\n",
    "    avg_values = average_df.loc[method]\n",
    "    print((x_labels[0] - row_x_labels[0]))\n",
    "    avg_values = avg_values[(x_labels[0] - row_x_labels[0]):(x_labels[0] - row_x_labels[0]) + len(x_labels)]\n",
    "\n",
    "    mask = avg_values.notna()\n",
    "    avg_values = avg_values[mask]\n",
    "    xpos_filtered = x_positions[mask]\n",
    "    \n",
    "    ax.plot(xpos_filtered, avg_values, label=method_names[i], marker=markers[i], color=colors[i])\n",
    "\n",
    "# 设置 x 轴标签\n",
    "ax.set_xticks(x_positions)\n",
    "ax.set_xticklabels(x_labels)\n",
    "\n",
    "# 图例和标签\n",
    "ax.set_ylabel(\"Running Time (unit:ms)\", fontsize=14)\n",
    "ax.set_xlabel(r'$log_{2}(N)$', fontsize=14)\n",
    "\n",
    "ax.legend()\n",
    "ax.set_yscale(\"log\")\n",
    "\n",
    "# 显示图表\n",
    "plt.tight_layout()\n",
    "plt.savefig(\"5_3_average.pdf\")\n",
    "plt.close()"
   ]
  }
 ],
 "metadata": {
  "kernelspec": {
   "display_name": "base",
   "language": "python",
   "name": "python3"
  },
  "language_info": {
   "codemirror_mode": {
    "name": "ipython",
    "version": 3
   },
   "file_extension": ".py",
   "mimetype": "text/x-python",
   "name": "python",
   "nbconvert_exporter": "python",
   "pygments_lexer": "ipython3",
   "version": "3.10.13"
  }
 },
 "nbformat": 4,
 "nbformat_minor": 2
}
